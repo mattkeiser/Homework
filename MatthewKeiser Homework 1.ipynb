{
 "cells": [
  {
   "cell_type": "code",
   "execution_count": 2,
   "metadata": {
    "collapsed": true
   },
   "outputs": [],
   "source": [
    "import pandas as pd\n",
    "import numpy as np\n",
    "import matplotlib.pyplot as plt\n",
    "%matplotlib inline"
   ]
  },
  {
   "cell_type": "markdown",
   "metadata": {},
   "source": [
    "# 1) Read in the titanic data set into a pandas dataframe."
   ]
  },
  {
   "cell_type": "code",
   "execution_count": 3,
   "metadata": {
    "collapsed": true
   },
   "outputs": [],
   "source": [
    "data = pd.read_csv('https://raw.githubusercontent.com/galvin-mj/DAT_ATL_15/master/Datasets/titanic_train.csv')"
   ]
  },
  {
   "cell_type": "markdown",
   "metadata": {},
   "source": [
    "# 2) Look at the first 5 rows."
   ]
  },
  {
   "cell_type": "code",
   "execution_count": 4,
   "metadata": {
    "collapsed": false
   },
   "outputs": [
    {
     "data": {
      "text/html": [
       "<div>\n",
       "<table border=\"1\" class=\"dataframe\">\n",
       "  <thead>\n",
       "    <tr style=\"text-align: right;\">\n",
       "      <th></th>\n",
       "      <th>PassengerId</th>\n",
       "      <th>Survived</th>\n",
       "      <th>Pclass</th>\n",
       "      <th>Name</th>\n",
       "      <th>Sex</th>\n",
       "      <th>Age</th>\n",
       "      <th>SibSp</th>\n",
       "      <th>Parch</th>\n",
       "      <th>Ticket</th>\n",
       "      <th>Fare</th>\n",
       "      <th>Cabin</th>\n",
       "      <th>Embarked</th>\n",
       "    </tr>\n",
       "  </thead>\n",
       "  <tbody>\n",
       "    <tr>\n",
       "      <th>0</th>\n",
       "      <td>1</td>\n",
       "      <td>0</td>\n",
       "      <td>3</td>\n",
       "      <td>Braund, Mr. Owen Harris</td>\n",
       "      <td>male</td>\n",
       "      <td>22</td>\n",
       "      <td>1</td>\n",
       "      <td>0</td>\n",
       "      <td>A/5 21171</td>\n",
       "      <td>7.2500</td>\n",
       "      <td>NaN</td>\n",
       "      <td>S</td>\n",
       "    </tr>\n",
       "    <tr>\n",
       "      <th>1</th>\n",
       "      <td>2</td>\n",
       "      <td>1</td>\n",
       "      <td>1</td>\n",
       "      <td>Cumings, Mrs. John Bradley (Florence Briggs Th...</td>\n",
       "      <td>female</td>\n",
       "      <td>38</td>\n",
       "      <td>1</td>\n",
       "      <td>0</td>\n",
       "      <td>PC 17599</td>\n",
       "      <td>71.2833</td>\n",
       "      <td>C85</td>\n",
       "      <td>C</td>\n",
       "    </tr>\n",
       "    <tr>\n",
       "      <th>2</th>\n",
       "      <td>3</td>\n",
       "      <td>1</td>\n",
       "      <td>3</td>\n",
       "      <td>Heikkinen, Miss. Laina</td>\n",
       "      <td>female</td>\n",
       "      <td>26</td>\n",
       "      <td>0</td>\n",
       "      <td>0</td>\n",
       "      <td>STON/O2. 3101282</td>\n",
       "      <td>7.9250</td>\n",
       "      <td>NaN</td>\n",
       "      <td>S</td>\n",
       "    </tr>\n",
       "    <tr>\n",
       "      <th>3</th>\n",
       "      <td>4</td>\n",
       "      <td>1</td>\n",
       "      <td>1</td>\n",
       "      <td>Futrelle, Mrs. Jacques Heath (Lily May Peel)</td>\n",
       "      <td>female</td>\n",
       "      <td>35</td>\n",
       "      <td>1</td>\n",
       "      <td>0</td>\n",
       "      <td>113803</td>\n",
       "      <td>53.1000</td>\n",
       "      <td>C123</td>\n",
       "      <td>S</td>\n",
       "    </tr>\n",
       "    <tr>\n",
       "      <th>4</th>\n",
       "      <td>5</td>\n",
       "      <td>0</td>\n",
       "      <td>3</td>\n",
       "      <td>Allen, Mr. William Henry</td>\n",
       "      <td>male</td>\n",
       "      <td>35</td>\n",
       "      <td>0</td>\n",
       "      <td>0</td>\n",
       "      <td>373450</td>\n",
       "      <td>8.0500</td>\n",
       "      <td>NaN</td>\n",
       "      <td>S</td>\n",
       "    </tr>\n",
       "  </tbody>\n",
       "</table>\n",
       "</div>"
      ],
      "text/plain": [
       "   PassengerId  Survived  Pclass  \\\n",
       "0            1         0       3   \n",
       "1            2         1       1   \n",
       "2            3         1       3   \n",
       "3            4         1       1   \n",
       "4            5         0       3   \n",
       "\n",
       "                                                Name     Sex  Age  SibSp  \\\n",
       "0                            Braund, Mr. Owen Harris    male   22      1   \n",
       "1  Cumings, Mrs. John Bradley (Florence Briggs Th...  female   38      1   \n",
       "2                             Heikkinen, Miss. Laina  female   26      0   \n",
       "3       Futrelle, Mrs. Jacques Heath (Lily May Peel)  female   35      1   \n",
       "4                           Allen, Mr. William Henry    male   35      0   \n",
       "\n",
       "   Parch            Ticket     Fare Cabin Embarked  \n",
       "0      0         A/5 21171   7.2500   NaN        S  \n",
       "1      0          PC 17599  71.2833   C85        C  \n",
       "2      0  STON/O2. 3101282   7.9250   NaN        S  \n",
       "3      0            113803  53.1000  C123        S  \n",
       "4      0            373450   8.0500   NaN        S  "
      ]
     },
     "execution_count": 4,
     "metadata": {},
     "output_type": "execute_result"
    }
   ],
   "source": [
    "data.head()"
   ]
  },
  {
   "cell_type": "markdown",
   "metadata": {},
   "source": [
    "# 3) What is the size of the data set? (rows and columns)."
   ]
  },
  {
   "cell_type": "code",
   "execution_count": 5,
   "metadata": {
    "collapsed": false
   },
   "outputs": [
    {
     "name": "stdout",
     "output_type": "stream",
     "text": [
      "891 X 12\n"
     ]
    }
   ],
   "source": [
    "rows = data.shape[0]\n",
    "columns = len(data.columns)\n",
    "print(rows,'X',columns)"
   ]
  },
  {
   "cell_type": "markdown",
   "metadata": {},
   "source": [
    "# 4) How many people survived? What percentage of people survived?"
   ]
  },
  {
   "cell_type": "code",
   "execution_count": 6,
   "metadata": {
    "collapsed": false
   },
   "outputs": [
    {
     "name": "stdout",
     "output_type": "stream",
     "text": [
      "342 Passengers Survived\n",
      "38.3838383838 % of Passengers Survived\n"
     ]
    }
   ],
   "source": [
    "survivors = sum(data['Survived'])\n",
    "percent_survived = survivors/rows\n",
    "print(survivors,'Passengers Survived')\n",
    "print(percent_survived*100,'% of Passengers Survived')"
   ]
  },
  {
   "cell_type": "markdown",
   "metadata": {},
   "source": [
    "# 5) What percentage of passengers are male? female?"
   ]
  },
  {
   "cell_type": "code",
   "execution_count": 7,
   "metadata": {
    "collapsed": false
   },
   "outputs": [
    {
     "name": "stdout",
     "output_type": "stream",
     "text": [
      "64.75869809203144 % are males and 35.24130190796858 % are females\n"
     ]
    }
   ],
   "source": [
    "male_count = data[data['Sex'] == 'male'].shape[0]\n",
    "female_count = data[data['Sex'] == 'female'].shape[0]\n",
    "print(male_count/rows*100,'% are males and',female_count/rows*100,'% are females')"
   ]
  },
  {
   "cell_type": "markdown",
   "metadata": {},
   "source": [
    "# 6) What is the survival rate of male passengers? female passengers?"
   ]
  },
  {
   "cell_type": "code",
   "execution_count": 8,
   "metadata": {
    "collapsed": false
   },
   "outputs": [
    {
     "name": "stdout",
     "output_type": "stream",
     "text": [
      "18.890814558058924 % of Males Survived and 74.20382165605095 % of Females Survived\n"
     ]
    }
   ],
   "source": [
    "male_survival = data[(data['Sex'] == 'male') & (data['Survived'] == 1)].shape[0]/male_count\n",
    "female_survival = data[(data['Sex'] == 'female') & (data['Survived'] == 1)].shape[0]/female_count\n",
    "print(male_survival*100,'% of Males Survived and',female_survival*100,'% of Females Survived')"
   ]
  },
  {
   "cell_type": "markdown",
   "metadata": {},
   "source": [
    "# 7) How many different cabin classes, Pclass, are there?"
   ]
  },
  {
   "cell_type": "code",
   "execution_count": 9,
   "metadata": {
    "collapsed": false
   },
   "outputs": [
    {
     "name": "stdout",
     "output_type": "stream",
     "text": [
      "There are 3 Different Classes\n"
     ]
    }
   ],
   "source": [
    "class_count = len(data['Pclass'].unique())\n",
    "print('There are',class_count,'Different Classes')"
   ]
  },
  {
   "cell_type": "markdown",
   "metadata": {},
   "source": [
    "# 8) What percent of the passengers are in each class?"
   ]
  },
  {
   "cell_type": "code",
   "execution_count": 10,
   "metadata": {
    "collapsed": false
   },
   "outputs": [
    {
     "name": "stdout",
     "output_type": "stream",
     "text": [
      "24.242424242424242 % are in First Class,\n",
      "20.65095398428732 % are in Second Class\n",
      "55.106621773288445 % are in third class\n"
     ]
    }
   ],
   "source": [
    "first_class_percentage = data[data['Pclass'] == 1].shape[0]/rows\n",
    "second_class_percentage = data[data['Pclass'] == 2].shape[0]/rows\n",
    "third_class_percentage = data[data['Pclass'] == 3].shape[0]/rows\n",
    "print(first_class_percentage*100,'% are in First Class,')\n",
    "print(second_class_percentage*100,'% are in Second Class')\n",
    "print(third_class_percentage*100,'% are in third class')"
   ]
  },
  {
   "cell_type": "markdown",
   "metadata": {},
   "source": [
    "# 9) What is the survival rate within each class?"
   ]
  },
  {
   "cell_type": "code",
   "execution_count": 11,
   "metadata": {
    "collapsed": false
   },
   "outputs": [
    {
     "name": "stdout",
     "output_type": "stream",
     "text": [
      "62.96296296296296 % of First Class Passengers Survived\n",
      "47.28260869565217 % of Second Class Passengers Survived\n",
      "24.236252545824847 % of Third Class Passengers Survived\n"
     ]
    }
   ],
   "source": [
    "first_class_survival = data[(data['Pclass'] == 1) & (data['Survived'] == 1)].shape[0]/data[data['Pclass'] == 1].shape[0]\n",
    "second_class_survival = data[(data['Pclass'] == 2) & (data['Survived'] == 1)].shape[0]/data[data['Pclass'] == 2].shape[0]\n",
    "third_class_survival = data[(data['Pclass'] == 3) & (data['Survived'] == 1)].shape[0]/data[data['Pclass'] == 3].shape[0]\n",
    "print(first_class_survival*100,'% of First Class Passengers Survived')\n",
    "print(second_class_survival*100,'% of Second Class Passengers Survived')\n",
    "print(third_class_survival*100,'% of Third Class Passengers Survived')"
   ]
  },
  {
   "cell_type": "markdown",
   "metadata": {},
   "source": [
    "# 10) Create a histogram of ages split by sex and survival."
   ]
  },
  {
   "cell_type": "code",
   "execution_count": 40,
   "metadata": {
    "collapsed": false
   },
   "outputs": [
    {
     "data": {
      "image/png": "[encoded data removed]",
      "text/plain": [
       "<matplotlib.figure.Figure at 0x8b4f358>"
      ]
     },
     "metadata": {},
     "output_type": "display_data"
    }
   ],
   "source": [
    "male_survivors = data[(data['Sex'] == 'male') & (data['Survived'] == 1)]\n",
    "male_surv = male_survivors[np.isfinite(male_survivors['Age'])]\n",
    "\n",
    "male_dead = data[(data['Sex'] == 'male') & (data['Survived'] == 0)]\n",
    "male_died = male_dead[np.isfinite(male_dead['Age'])]\n",
    "\n",
    "female_survivors = data[(data['Sex'] == 'female') & (data['Survived'] == 1)]\n",
    "female_surv = female_survivors[np.isfinite(female_survivors['Age'])]\n",
    "\n",
    "female_dead = data[(data['Sex'] == 'female') & (data['Survived'] == 0)]\n",
    "female_died = female_dead[np.isfinite(female_dead['Age'])]\n",
    "\n",
    "fig = plt.figure(figsize=(10,10))\n",
    "\n",
    "ax1 = fig.add_subplot(2,2,1)\n",
    "ax1.hist(male_surv['Age'].values)\n",
    "plt.title('Male Survivors')\n",
    "\n",
    "ax2 = fig.add_subplot(2,2,2)\n",
    "ax2.hist(male_died['Age'].values)\n",
    "plt.title('Male Dead')\n",
    "\n",
    "ax3 = fig.add_subplot(2,2,3)\n",
    "ax3.hist(female_surv['Age'].values)\n",
    "plt.title('Female Survivors')\n",
    "\n",
    "ax4 = fig.add_subplot(2,2,4)\n",
    "ax4.hist(female_died['Age'].values)\n",
    "plt.title('Female Dead')\n",
    "\n",
    "fig.subplots_adjust(hspace = .5)\n",
    "plt.show()"
   ]
  },
  {
   "cell_type": "markdown",
   "metadata": {
    "collapsed": false
   },
   "source": [
    "# 10) Create a boxplot for age split by class and sex."
   ]
  },
  {
   "cell_type": "code",
   "execution_count": 39,
   "metadata": {
    "collapsed": false
   },
   "outputs": [
    {
     "data": {
      "image/png": "[encoded data removed]",
      "text/plain": [
       "<matplotlib.figure.Figure at 0xc1b668>"
      ]
     },
     "metadata": {},
     "output_type": "display_data"
    }
   ],
   "source": [
    "male_first = data[(data['Sex'] == 'male') & (data['Pclass'] == 1)]\n",
    "male_1st = male_first[np.isfinite(male_first['Age'])]\n",
    "\n",
    "male_second = data[(data['Sex'] == 'male') & (data['Pclass'] == 2)]\n",
    "male_2nd = male_second[np.isfinite(male_second['Age'])]\n",
    "\n",
    "male_third = data[(data['Sex'] == 'male') & (data['Pclass'] == 3)]\n",
    "male_3rd = male_third[np.isfinite(male_third['Age'])]\n",
    "\n",
    "female_first = data[(data['Sex'] == 'female') & (data['Pclass'] == 1)]\n",
    "female_1st = female_first[np.isfinite(female_first['Age'])]\n",
    "\n",
    "female_second = data[(data['Sex'] == 'female') & (data['Pclass'] == 2)]\n",
    "female_2nd = female_second[np.isfinite(female_second['Age'])]\n",
    "\n",
    "female_third = data[(data['Sex'] == 'female') & (data['Pclass'] == 3)]\n",
    "female_3rd = female_third[np.isfinite(female_third['Age'])]\n",
    "\n",
    "plot_info = [male_1st['Age'].values, female_1st['Age'].values, male_2nd['Age'].values, female_2nd['Age'].values, male_3rd['Age'].values, female_3rd['Age'].values]\n",
    "\n",
    "fig = plt.figure(figsize=(20,10))\n",
    "ax1 = fig.add_subplot(1,1,1)\n",
    "ax1.boxplot(plot_info, labels=['Male 1st', 'Female 1st', 'Male 2nd', 'Female 2nd', 'Male 3rd', 'Female 3rd'])\n",
    "ax1.set_ylim(0, 100)\n",
    "ax1.set_title('Boxplots of Age by Class and Sex')\n",
    "plt.show()"
   ]
  },
  {
   "cell_type": "markdown",
   "metadata": {},
   "source": [
    "# 12) For each class create a histogram plot of ages split by suvivor or not."
   ]
  },
  {
   "cell_type": "code",
   "execution_count": 41,
   "metadata": {
    "collapsed": false
   },
   "outputs": [
    {
     "data": {
      "image/png": "[encoded data removed]",
      "text/plain": [
       "<matplotlib.figure.Figure at 0x5a610f0>"
      ]
     },
     "metadata": {},
     "output_type": "display_data"
    }
   ],
   "source": [
    "surv_first = data[(data['Survived'] == 1) & (data['Pclass'] == 1)]\n",
    "surv_1st = surv_first[np.isfinite(surv_first['Age'])]\n",
    "\n",
    "surv_second = data[(data['Survived'] == 1) & (data['Pclass'] == 2)]\n",
    "surv_2nd = surv_second[np.isfinite(surv_second['Age'])]\n",
    "\n",
    "surv_third = data[(data['Survived'] == 1) & (data['Pclass'] == 3)]\n",
    "surv_3rd = surv_third[np.isfinite(surv_third['Age'])]\n",
    "\n",
    "dead_first = data[(data['Survived'] == 0) & (data['Pclass'] == 1)]\n",
    "dead_1st = dead_first[np.isfinite(dead_first['Age'])]\n",
    "\n",
    "dead_second = data[(data['Survived'] == 0) & (data['Pclass'] == 2)]\n",
    "dead_2nd = dead_second[np.isfinite(dead_second['Age'])]\n",
    "\n",
    "dead_third = data[(data['Survived'] == 0) & (data['Pclass'] == 3)]\n",
    "dead_3rd = dead_third[np.isfinite(dead_third['Age'])]\n",
    "\n",
    "fig = plt.figure(figsize=(20,30))\n",
    "\n",
    "ax1 = fig.add_subplot(3,1,1)\n",
    "ax1.hist(surv_1st['Age'].values, alpha = 0.5,  label = 'Survived')\n",
    "ax1.hist(dead_1st['Age'].values, alpha = 0.5,  label = 'Died')\n",
    "ax1.legend(loc='upper right')\n",
    "ax1.set_title('First Class')\n",
    "\n",
    "ax2 = fig.add_subplot(3,1,2)\n",
    "ax2.hist(surv_2nd['Age'].values, alpha = 0.5,  label = 'Survived')\n",
    "ax2.hist(dead_2nd['Age'].values, alpha = 0.5,  label = 'Died')\n",
    "ax2.legend(loc='upper right')\n",
    "ax2.set_title('Second Class')\n",
    "\n",
    "ax1 = fig.add_subplot(3,1,3)\n",
    "ax1.hist(surv_3rd['Age'].values, alpha = 0.5,  label = 'Survived')\n",
    "ax1.hist(dead_3rd['Age'].values, alpha = 0.5,  label = 'Died')\n",
    "ax1.legend(loc='upper right')\n",
    "ax1.set_title('Third Class')\n",
    "\n",
    "fig.subplots_adjust(hspace = .5)\n",
    "plt.show()"
   ]
  },
  {
   "cell_type": "markdown",
   "metadata": {},
   "source": [
    "# 13) Discuss anything interesting you found. Where there any surprises? Are there any data issues you found? If you wanted to predict survival or not what do you think we be the most useful?"
   ]
  },
  {
   "cell_type": "markdown",
   "metadata": {},
   "source": [
    "The difference in the survival rates between the classes and the genders was expected, but the starkness of it was surprising.\n",
    "\n",
    "There were 'NaN' values for ages. These had to be filtered out to plot the histograms, which means the data is restricted. This could cause some problems with the analysis, such as more third class passengers not having a recorded age than first class.\n",
    "\n",
    "Straight forward survival rates mask the trend in younger passengers and women having a much better chance of surviving. \n",
    "\n",
    "The best predictors of survival would be Sex, Pclass, and Age."
   ]
  },
  {
   "cell_type": "code",
   "execution_count": null,
   "metadata": {
    "collapsed": true
   },
   "outputs": [],
   "source": []
  }
 ],
 "metadata": {
  "kernelspec": {
   "display_name": "Python 3",
   "language": "python",
   "name": "python3"
  },
  "language_info": {
   "codemirror_mode": {
    "name": "ipython",
    "version": 3
   },
   "file_extension": ".py",
   "mimetype": "text/x-python",
   "name": "python",
   "nbconvert_exporter": "python",
   "pygments_lexer": "ipython3",
   "version": "3.4.3"
  }
 },
 "nbformat": 4,
 "nbformat_minor": 0
}
