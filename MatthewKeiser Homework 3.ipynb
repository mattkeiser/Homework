{
 "cells": [
  {
   "cell_type": "markdown",
   "metadata": {},
   "source": [
    "# Conceptual, Non-Programming"
   ]
  },
  {
   "cell_type": "markdown",
   "metadata": {},
   "source": [
    "## Naive Bayes"
   ]
  },
  {
   "cell_type": "markdown",
   "metadata": {},
   "source": [
    "### I have a bucket with 3 red balls and 7 blue balls in it. I reach into the bucket and grab a ball. What is the proability the ball is red, P(R)? The probability that it's blue, P(B)?"
   ]
  },
  {
   "cell_type": "code",
   "execution_count": 1,
   "metadata": {
    "collapsed": false
   },
   "outputs": [
    {
     "name": "stdout",
     "output_type": "stream",
     "text": [
      "P(R) = 0.7\n",
      "P(B) = 0.3\n"
     ]
    }
   ],
   "source": [
    "P_RED = 7/(3+7)\n",
    "P_BLU = 3/(3+7)\n",
    "print('P(R) =',P_RED)\n",
    "print('P(B) =',P_BLU)"
   ]
  },
  {
   "cell_type": "markdown",
   "metadata": {},
   "source": [
    "### Now assume I have two buckets. Bucket 1, B1, have 5 red and 5 blue balls in it. Bucket 2, B2, has 2 red and 8 blue balls in it."
   ]
  },
  {
   "cell_type": "markdown",
   "metadata": {},
   "source": [
    "#### I first choose a bucket and then grab a ball. Assuming I choose bucket 1 and bucket 2 with equal probability, what is the probability that the chosen ball is red? blue?"
   ]
  },
  {
   "cell_type": "code",
   "execution_count": 4,
   "metadata": {
    "collapsed": false
   },
   "outputs": [
    {
     "name": "stdout",
     "output_type": "stream",
     "text": [
      "Probability of red = 0.65\n",
      "Probability of blue = 0.35\n"
     ]
    }
   ],
   "source": [
    "prob = 0.5*(5/10) + 0.5*(8/10)\n",
    "print('Probability of red =',prob)\n",
    "print('Probability of blue =',1-prob)"
   ]
  },
  {
   "cell_type": "markdown",
   "metadata": {},
   "source": [
    "#### What is the conditional probability that I choose a red ball given B1, P(R|B1)?"
   ]
  },
  {
   "cell_type": "code",
   "execution_count": 6,
   "metadata": {
    "collapsed": false
   },
   "outputs": [
    {
     "name": "stdout",
     "output_type": "stream",
     "text": [
      "P(R|B1) = 0.5\n"
     ]
    }
   ],
   "source": [
    "prob = 5/10\n",
    "print('P(R|B1) =',prob)"
   ]
  },
  {
   "cell_type": "markdown",
   "metadata": {},
   "source": [
    "### Let's say we're performing a binary classification problem. We're given a binary class label y and a feature vector X with dimensionality m. Meaning there are m features.\n",
    "\n",
    "#### What is Bayes theorem? Write it in terms of X and Y in the way it's used for our classification problem."
   ]
  },
  {
   "cell_type": "code",
   "execution_count": 7,
   "metadata": {
    "collapsed": false
   },
   "outputs": [
    {
     "name": "stdout",
     "output_type": "stream",
     "text": [
      "P(Y|X) = P(Y) * P(X|Y) / P(X)\n"
     ]
    }
   ],
   "source": [
    "print('P(Y|X) = P(Y) * P(X|Y) / P(X)')"
   ]
  },
  {
   "cell_type": "markdown",
   "metadata": {},
   "source": [
    "#### In this problem we have 4 probabilities, {P(X), P(Y), P(X|Y), P(Y|X)}, which ones do we need to estimate?"
   ]
  },
  {
   "cell_type": "code",
   "execution_count": 9,
   "metadata": {
    "collapsed": false
   },
   "outputs": [
    {
     "name": "stdout",
     "output_type": "stream",
     "text": [
      "P(X|Y) and P(Y)\n"
     ]
    }
   ],
   "source": [
    "print('P(X|Y) and P(Y)')"
   ]
  },
  {
   "cell_type": "markdown",
   "metadata": {},
   "source": [
    "#### What is the Naive Bayes assumption? Why do we need to make this assumption?"
   ]
  },
  {
   "cell_type": "code",
   "execution_count": 10,
   "metadata": {
    "collapsed": false
   },
   "outputs": [
    {
     "name": "stdout",
     "output_type": "stream",
     "text": [
      "The naive bayes assumption is all of the X values are independent\n"
     ]
    }
   ],
   "source": [
    "print('The naive bayes assumption is all of the X values are independent')"
   ]
  },
  {
   "cell_type": "markdown",
   "metadata": {},
   "source": [
    "#### We discussed the following 3 different Naive Bayes implementations in SKLearn. When would you use each?\n",
    "\n",
    "Gaussian: This is for situations where the features are continuous values\n",
    "\n",
    "Bernoulli: This implementation is for situations where the features are independent boolean values\n",
    "\n",
    "Multinomial: This implementation is for multi-class problems"
   ]
  },
  {
   "cell_type": "markdown",
   "metadata": {},
   "source": [
    "## Logistic Regression"
   ]
  },
  {
   "cell_type": "markdown",
   "metadata": {},
   "source": [
    "### What type of machine learning algorithm is logistic regression?"
   ]
  },
  {
   "cell_type": "code",
   "execution_count": 11,
   "metadata": {
    "collapsed": false
   },
   "outputs": [
    {
     "name": "stdout",
     "output_type": "stream",
     "text": [
      "It is a classifier\n"
     ]
    }
   ],
   "source": [
    "print('It is a classifier')"
   ]
  },
  {
   "cell_type": "markdown",
   "metadata": {},
   "source": [
    "### In logistic regression we use the logistic function. What is the logistic function interpretted as?"
   ]
  },
  {
   "cell_type": "code",
   "execution_count": 12,
   "metadata": {
    "collapsed": false
   },
   "outputs": [
    {
     "name": "stdout",
     "output_type": "stream",
     "text": [
      "The logistic function is interpreted as the probability of one of the classes occuring given the observations\n"
     ]
    }
   ],
   "source": [
    "print('The logistic function is interpreted as the probability of one of the classes occuring given the observations')"
   ]
  },
  {
   "cell_type": "markdown",
   "metadata": {},
   "source": [
    "### What is the assumption of logistic regression? What does the decision boundary look like?"
   ]
  },
  {
   "cell_type": "code",
   "execution_count": 14,
   "metadata": {
    "collapsed": false
   },
   "outputs": [
    {
     "name": "stdout",
     "output_type": "stream",
     "text": [
      "It assumes the classes can be divided by a flat hyperplane\n",
      "It is a flat hyperplane\n"
     ]
    }
   ],
   "source": [
    "print('It assumes the classes can be divided by a flat hyperplane')\n",
    "print('It is a flat hyperplane')"
   ]
  },
  {
   "cell_type": "markdown",
   "metadata": {},
   "source": [
    "## Clustering"
   ]
  },
  {
   "cell_type": "markdown",
   "metadata": {},
   "source": [
    "### What type of algorithm is k-means clustering? Supervised or unsupervised?"
   ]
  },
  {
   "cell_type": "code",
   "execution_count": 15,
   "metadata": {
    "collapsed": false
   },
   "outputs": [
    {
     "name": "stdout",
     "output_type": "stream",
     "text": [
      "It is an unsupervised algorithm\n"
     ]
    }
   ],
   "source": [
    "print('It is an unsupervised algorithm')"
   ]
  },
  {
   "cell_type": "markdown",
   "metadata": {},
   "source": [
    "### Does k-means clustering have any parameters? If so what are they?"
   ]
  },
  {
   "cell_type": "code",
   "execution_count": 18,
   "metadata": {
    "collapsed": false
   },
   "outputs": [
    {
     "name": "stdout",
     "output_type": "stream",
     "text": [
      "Yes. The \"K\" in k-means clustering is the number of splits that are made\n"
     ]
    }
   ],
   "source": [
    "print('Yes. The \"K\" in k-means clustering is the number of splits that are made')"
   ]
  },
  {
   "cell_type": "markdown",
   "metadata": {},
   "source": [
    "### What are the assumptions of k-means clustering?"
   ]
  },
  {
   "cell_type": "code",
   "execution_count": 19,
   "metadata": {
    "collapsed": false
   },
   "outputs": [
    {
     "name": "stdout",
     "output_type": "stream",
     "text": [
      "That the clusters are spherical, well separated, of similar volumes, and have a similar number of points\n"
     ]
    }
   ],
   "source": [
    "print('That the clusters are spherical, well separated, of similar volumes, and have a similar number of points')"
   ]
  },
  {
   "cell_type": "markdown",
   "metadata": {},
   "source": [
    "## "
   ]
  }
 ],
 "metadata": {
  "kernelspec": {
   "display_name": "Python 3",
   "language": "python",
   "name": "python3"
  },
  "language_info": {
   "codemirror_mode": {
    "name": "ipython",
    "version": 3
   },
   "file_extension": ".py",
   "mimetype": "text/x-python",
   "name": "python",
   "nbconvert_exporter": "python",
   "pygments_lexer": "ipython3",
   "version": "3.4.3"
  }
 },
 "nbformat": 4,
 "nbformat_minor": 0
}
